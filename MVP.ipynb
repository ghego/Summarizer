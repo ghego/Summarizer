{
 "cells": [
  {
   "cell_type": "code",
   "execution_count": 56,
   "metadata": {
    "collapsed": true
   },
   "outputs": [],
   "source": [
    "import lxml.html as lx\n",
    "import re"
   ]
  },
  {
   "cell_type": "code",
   "execution_count": 46,
   "metadata": {
    "collapsed": true
   },
   "outputs": [],
   "source": [
    "url = 'http://www.lifehack.org/articles/communication/20-timeless-tips-make-the-most-out-life.html'"
   ]
  },
  {
   "cell_type": "code",
   "execution_count": 67,
   "metadata": {
    "collapsed": false
   },
   "outputs": [],
   "source": [
    "r = req.get(url)\n",
    "html1 = r.text"
   ]
  },
  {
   "cell_type": "code",
   "execution_count": 48,
   "metadata": {
    "collapsed": false
   },
   "outputs": [],
   "source": [
    "t = lx.parse(url)\n"
   ]
  },
  {
   "cell_type": "code",
   "execution_count": 71,
   "metadata": {
    "collapsed": false
   },
   "outputs": [
    {
     "name": "stdout",
     "output_type": "stream",
     "text": [
      "1. Creativity trumps book-smarts every time.\n",
      "2. The rules are meant to be broken.\n",
      "3. You are “inferior” to no other person.\n",
      "4. Slow down and bask in the pleasure of living.\n",
      "5. Upset by wrongdoing? Do something about it.\n",
      "6. Regret nothing (and do all the things).\n",
      "7. Less thinking, more doing.\n",
      "8. You are not alone.\n",
      "9. View yourself from the eyes of another.\n",
      "10. Be grateful for what is right in front of you.\n",
      "11. Stay true to your authentic self.\n",
      "12. No one cares how much “stuff” you have.\n",
      "13. Don’t merely expect more from life. Demand more from life.\n",
      "14. The things that are most challenging are often the things that prove to be most rewarding.\n",
      "15. Exercise your power of belief and crush it.\n",
      "16. March to the beat of your own drum.\n",
      "17. Failure and pain are life’s greatest teachers.\n",
      "18. Knowledge is useless without action.\n",
      "19. The worst of times can bring out the best in people\n",
      "20. The world needs the special gift that only you can offer.\n"
     ]
    }
   ],
   "source": [
    "al_titles = t.findall(\".//h2\")\n",
    "nbeg = re.compile('[0-9]+')\n",
    "titstr = []\n",
    "for e in al_titles:\n",
    "    txt = e.text\n",
    "    if nbeg.match(txt):\n",
    "         if(txt not in titstr):\n",
    "                titstr.append(txt)\n",
    "for t in titstr:\n",
    "    print t"
   ]
  },
  {
   "cell_type": "code",
   "execution_count": 62,
   "metadata": {
    "collapsed": false
   },
   "outputs": [],
   "source": [
    "nbeg = re.compile('[0-9]+')\n",
    "nbeg.match('The world need')"
   ]
  },
  {
   "cell_type": "code",
   "execution_count": 68,
   "metadata": {
    "collapsed": false
   },
   "outputs": [
    {
     "data": {
      "text/plain": [
       "166678"
      ]
     },
     "execution_count": 68,
     "metadata": {},
     "output_type": "execute_result"
    }
   ],
   "source": [
    "html1.find('No one cares')"
   ]
  },
  {
   "cell_type": "code",
   "execution_count": 69,
   "metadata": {
    "collapsed": false
   },
   "outputs": [
    {
     "data": {
      "text/plain": [
       "u'No one cares how much &ldquo;stuff&rdquo; you have.</h2>\\n<blockquote><p>&ldquo;We spend money that w'"
      ]
     },
     "execution_count": 69,
     "metadata": {},
     "output_type": "execute_result"
    }
   ],
   "source": [
    "html1[166678:166678+100]"
   ]
  },
  {
   "cell_type": "code",
   "execution_count": null,
   "metadata": {
    "collapsed": true
   },
   "outputs": [],
   "source": []
  }
 ],
 "metadata": {
  "kernelspec": {
   "display_name": "Python 2",
   "language": "python",
   "name": "python2"
  },
  "language_info": {
   "codemirror_mode": {
    "name": "ipython",
    "version": 2
   },
   "file_extension": ".py",
   "mimetype": "text/x-python",
   "name": "python",
   "nbconvert_exporter": "python",
   "pygments_lexer": "ipython2",
   "version": "2.7.10"
  }
 },
 "nbformat": 4,
 "nbformat_minor": 0
}
